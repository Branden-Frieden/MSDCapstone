{
 "cells": [
  {
   "cell_type": "markdown",
   "metadata": {},
   "source": [
    "# Part 1: load and prepare data"
   ]
  },
  {
   "cell_type": "code",
   "execution_count": 9,
   "metadata": {},
   "outputs": [],
   "source": [
    "# Include Libraries\n",
    "import torch\n",
    "from torch import nn\n",
    "from torch.utils.data import DataLoader\n",
    "from torchvision import datasets, transforms\n",
    "import torch.optim as optim\n",
    "import torch.nn.functional as F\n",
    "\n",
    "from sklearn.model_selection import train_test_split\n",
    "\n",
    "from pathlib import Path\n",
    "import os\n",
    "import shutil\n",
    "import random\n",
    "\n",
    "from PIL import Image\n",
    "import numpy as np\n",
    "\n",
    "from tqdm import tqdm\n",
    "import pandas as pd"
   ]
  },
  {
   "cell_type": "code",
   "execution_count": 10,
   "metadata": {},
   "outputs": [],
   "source": [
    "# # Turn folders into Train and Test sets\n",
    "# for dirpath, dirnames, filenames in os.walk(\"data/asl_dataset\"):\n",
    "#   for filename in (filenames):\n",
    "\n",
    "#     # generate random number between 1 and 10\n",
    "#     rand_int = random.randint(1, 10)\n",
    "\n",
    "#     # use rand_int to determine whether image goes to test or train\n",
    "\n",
    "#     if rand_int >= 9:\n",
    "#       split_path = Path(\"data/test\")\n",
    "#     else:\n",
    "#       split_path = Path(\"data/train\")\n",
    "\n",
    "#     # split the full path so we can pull the class folder name later\n",
    "#     sub_paths = dirpath.split(\"/\")\n",
    "\n",
    "#     # generate souce path and destination path\n",
    "#     src_path = Path(dirpath) / filename\n",
    "#     dest_path = Path(split_path) / Path(sub_paths[len(sub_paths) - 1]) / filename\n",
    "\n",
    "#     # Copy image to location, or create destination then copy\n",
    "#     try:\n",
    "#       shutil.copyfile(src_path, dest_path)\n",
    "#     except IOError as io_err:\n",
    "#       os.makedirs(os.path.dirname(dest_path))\n",
    "#       shutil.copyfile(src_path, dest_path)"
   ]
  },
  {
   "cell_type": "code",
   "execution_count": 11,
   "metadata": {},
   "outputs": [],
   "source": [
    "# # check for proper test/train split (aproxamatly 20 %)\n",
    "# for dirpath, dirnames, filenames in os.walk(Path(\"data/asl_dataset\")):\n",
    "#     print(f\"There are {len(dirnames)} directories and {len(filenames)} images in '{dirpath}'.\")\n",
    "\n",
    "# print(\"\\n\")\n",
    "\n",
    "# for dirpath, dirnames, filenames in os.walk(Path(\"data/test\")):\n",
    "#     print(f\"There are {len(dirnames)} directories and {len(filenames)} images in '{dirpath}'.\")\n",
    "\n",
    "# print(\"\\n\")\n",
    "\n",
    "# for dirpath, dirnames, filenames in os.walk(Path(\"data/train\")):\n",
    "#     print(f\"There are {len(dirnames)} directories and {len(filenames)} images in '{dirpath}'.\")"
   ]
  },
  {
   "cell_type": "code",
   "execution_count": 12,
   "metadata": {},
   "outputs": [],
   "source": [
    "# print((Image.open(\"data/train/0/hand1_0_bot_seg_1_cropped.jpeg\")).size)"
   ]
  },
  {
   "cell_type": "code",
   "execution_count": 14,
   "metadata": {},
   "outputs": [],
   "source": [
    "# pull images from sign language MNIST dataset\n",
    "# train_df = pd.read_csv(\"data/sign_mnist_train.csv\", header=0)\n",
    "# test_df = pd.read_csv(\"data/sign_mnist_test.csv\", header=0)\n",
    "\n",
    "# getImagesFromDataFrame(train_df, 'train')\n",
    "# getImagesFromDataFrame(test_df, 'test')"
   ]
  },
  {
   "cell_type": "code",
   "execution_count": 15,
   "metadata": {},
   "outputs": [],
   "source": [
    "import torchvision.transforms as transforms\n",
    "from PIL import Image\n",
    "import numpy as np\n",
    "import cv2\n",
    "import torch\n",
    "\n",
    "# Define a custom transform to perform edge detection\n",
    "class EdgeDetection(object):\n",
    "    def __init__(self):\n",
    "        pass\n",
    "\n",
    "    def __call__(self, image):\n",
    "        # Convert the PIL image to a NumPy array\n",
    "        image = np.array(image)\n",
    "\n",
    "        # Convert to grayscale if the image is in color\n",
    "        if len(image.shape) == 3 and image.shape[2] == 3:\n",
    "            image = cv2.cvtColor(image, cv2.COLOR_RGB2GRAY)\n",
    "\n",
    "        # Apply Canny edge detection\n",
    "        edges = cv2.Canny(image, threshold1=30, threshold2=100)\n",
    "\n",
    "        # Convert the edge image back to a PIL image\n",
    "        edge_image = Image.fromarray(edges)\n",
    "\n",
    "        return edge_image\n",
    "    \n",
    "class RandomizeColorsOnBlackPixels(object):\n",
    "    def __call__(self, tensor):\n",
    "        # Identify black pixels\n",
    "        black_pixels = (tensor[0] == 0) & (tensor[1] == 0) & (tensor[2] == 0)\n",
    "\n",
    "        # Generate random colors for each channel for black pixels\n",
    "        tensor[0][black_pixels] = torch.rand_like(tensor[0][black_pixels])\n",
    "        tensor[1][black_pixels] = torch.rand_like(tensor[1][black_pixels])\n",
    "        tensor[2][black_pixels] = torch.rand_like(tensor[2][black_pixels])\n",
    "\n",
    "        return tensor\n",
    "    \n",
    "train_transform = transforms.Compose([\n",
    "    transforms.Resize(size=(28, 28)),\n",
    "    transforms.Grayscale(num_output_channels=1),\n",
    "    transforms.ToTensor(),\n",
    "])\n",
    "\n",
    "test_transform = transforms.Compose([\n",
    "    transforms.Resize(size=(28, 28)),\n",
    "    transforms.Grayscale(num_output_channels=1),\n",
    "    transforms.ToTensor(),\n",
    "])\n"
   ]
  },
  {
   "cell_type": "code",
   "execution_count": 16,
   "metadata": {},
   "outputs": [
    {
     "data": {
      "text/plain": [
       "(Dataset ImageFolder\n",
       "     Number of datapoints: 27455\n",
       "     Root location: data/train\n",
       "     StandardTransform\n",
       " Transform: Compose(\n",
       "                Resize(size=(28, 28), interpolation=bilinear, max_size=None, antialias=warn)\n",
       "                Grayscale(num_output_channels=1)\n",
       "                ToTensor()\n",
       "            ),\n",
       " Dataset ImageFolder\n",
       "     Number of datapoints: 7172\n",
       "     Root location: data/test\n",
       "     StandardTransform\n",
       " Transform: Compose(\n",
       "                Resize(size=(28, 28), interpolation=bilinear, max_size=None, antialias=warn)\n",
       "                Grayscale(num_output_channels=1)\n",
       "                ToTensor()\n",
       "            ))"
      ]
     },
     "execution_count": 16,
     "metadata": {},
     "output_type": "execute_result"
    }
   ],
   "source": [
    "# set up the directories to the images\n",
    "train_dir = \"data/train\"\n",
    "test_dir = \"data/test\"\n",
    "\n",
    "# pull the images into datasets\n",
    "train_data = datasets.ImageFolder(root=train_dir,\n",
    "                                  transform=train_transform,  # a transform for the data\n",
    "                                  target_transform=None) # a transform for the label/target\n",
    "\n",
    "test_data = datasets.ImageFolder(root=test_dir,\n",
    "                                  transform=test_transform,  # a transform for the data\n",
    "                                  target_transform=None) # a transform for the label/target\n",
    "\n",
    "train_data, test_data  "
   ]
  },
  {
   "cell_type": "code",
   "execution_count": 17,
   "metadata": {},
   "outputs": [
    {
     "data": {
      "text/plain": [
       "(<torch.utils.data.dataloader.DataLoader at 0x173401c10>,\n",
       " <torch.utils.data.dataloader.DataLoader at 0x28a395410>)"
      ]
     },
     "execution_count": 17,
     "metadata": {},
     "output_type": "execute_result"
    }
   ],
   "source": [
    "# set up dataloader\n",
    "BATCH_SIZE = 8\n",
    "train_dataloader = DataLoader(dataset=train_data,\n",
    "                              batch_size=BATCH_SIZE,\n",
    "                              num_workers=0,\n",
    "                              shuffle=True)\n",
    "\n",
    "test_dataloader = DataLoader(dataset=test_data,\n",
    "                              batch_size=BATCH_SIZE,\n",
    "                              num_workers=0,\n",
    "                              shuffle=False)\n",
    "\n",
    "train_dataloader, test_dataloader"
   ]
  },
  {
   "cell_type": "code",
   "execution_count": 18,
   "metadata": {},
   "outputs": [],
   "source": [
    "class Net(nn.Module):\n",
    "  def __init__(self, outputs) -> None:\n",
    "    super().__init__()\n",
    "    conv1 = 16\n",
    "    self.conv_block_1 = nn.Sequential(\n",
    "        nn.Conv2d(in_channels=3,\n",
    "                  out_channels=conv1,\n",
    "                  kernel_size=3,\n",
    "                  stride=1,\n",
    "                  padding=0),\n",
    "        nn.ReLU(),\n",
    "        nn.Conv2d(in_channels=conv1,\n",
    "                  out_channels=conv1,\n",
    "                  kernel_size=3,\n",
    "                  stride=1,\n",
    "                  padding=0),\n",
    "        nn.ReLU(),\n",
    "        nn.MaxPool2d(kernel_size=2,\n",
    "                      stride=2)\n",
    "    )\n",
    "    self.conv_block_2 = nn.Sequential(\n",
    "            nn.Conv2d(in_channels=conv1,\n",
    "                      out_channels=conv1,\n",
    "                      kernel_size=3,\n",
    "                      stride=1,\n",
    "                      padding=0),\n",
    "            nn.ReLU(),\n",
    "            nn.Conv2d(in_channels=conv1,\n",
    "                      out_channels=conv1,\n",
    "                      kernel_size=3,\n",
    "                      stride=1,\n",
    "                      padding=0),\n",
    "            nn.ReLU(),\n",
    "            nn.MaxPool2d(kernel_size=2,\n",
    "                        stride=2)\n",
    "        )\n",
    "    self.classifier_layer = nn.Sequential(\n",
    "        nn.Flatten(),\n",
    "        nn.Linear(in_features=self.calculate_fc_input_size(),\n",
    "                  out_features=outputs)\n",
    "    )\n",
    "\n",
    "  def forward(self, x):\n",
    "    x = self.conv_block_1(x)\n",
    "    #print(x.shape)\n",
    "    x = self.conv_block_2(x)\n",
    "    #print(x.shape)\n",
    "    x = self.classifier_layer(x)\n",
    "    #print(x.shape)\n",
    "    return x\n",
    "    \n",
    "  def num_flat_features(self, x):\n",
    "      size = x.size()[1:]  # all dimensions except the batch dimension\n",
    "      num_features = 1\n",
    "      for s in size:\n",
    "          num_features *= s\n",
    "      return num_features\n",
    "  def calculate_fc_input_size(self):\n",
    "      # Compute the input size for the fully connected layer\n",
    "      dummy_input = torch.randn(1, 3, 128, 128)  #input size of 64 x 64\n",
    "      x = self.conv_block_2(self.conv_block_1(dummy_input))\n",
    "      return x.view(x.size(0), -1).size(1)"
   ]
  },
  {
   "cell_type": "code",
   "execution_count": 19,
   "metadata": {},
   "outputs": [],
   "source": [
    "def train( model, epochs, dataloader ): # One epoch uses the entire training set (one batch at a time) - 60,000 images in this case\n",
    "    \n",
    "    criterion = nn.CrossEntropyLoss() \n",
    "    optimizer = optim.Adam( model.parameters(), lr= 1e-4 ) \n",
    "    trainloader = dataloader\n",
    "\n",
    "    for epoch in range( epochs ): # loop over the dataset multiple times\n",
    "\n",
    "        running_loss = 0.0\n",
    "        for i, data in enumerate( trainloader, 0 ):\n",
    "            # get the inputs; data is a list of [inputs, labels]\n",
    "\n",
    "            inputs, labels = data\n",
    "            # zero the parameter gradients\n",
    "            optimizer.zero_grad()\n",
    "\n",
    "            # forward + backward + optimize\n",
    "            outputs = model(inputs) #predict the output with some training data\n",
    "            loss = criterion(outputs, labels) #see how well we did\n",
    "\n",
    "            loss.backward() #see how to change the weights to do better\n",
    "            optimizer.step() #and actually change the weights\n",
    "\n",
    "            # print statistics\n",
    "            running_loss += loss.item()\n",
    "            if i % 1000 == 999:    \n",
    "                print('[%d, %5d] loss: %.3f' % (epoch + 1, i + 1, running_loss / 100))\n",
    "                running_loss = 0.0\n",
    "\n",
    "    print('Finished Training')"
   ]
  },
  {
   "cell_type": "code",
   "execution_count": 20,
   "metadata": {},
   "outputs": [],
   "source": [
    "net = Net(36)"
   ]
  },
  {
   "cell_type": "code",
   "execution_count": 69,
   "metadata": {},
   "outputs": [
    {
     "name": "stdout",
     "output_type": "stream",
     "text": [
      "[1,  1000] loss: 0.072\n",
      "[1,  2000] loss: 0.088\n",
      "[1,  3000] loss: 0.012\n",
      "Finished Training\n"
     ]
    }
   ],
   "source": [
    "train(net, 1, train_dataloader)"
   ]
  },
  {
   "cell_type": "code",
   "execution_count": 70,
   "metadata": {},
   "outputs": [],
   "source": [
    "def evaluate( model, dataloader ):  \n",
    "\n",
    "    testloader = dataloader\n",
    "    correct = 0\n",
    "    total = 0\n",
    "\n",
    "    with torch.no_grad(): \n",
    "        for data in testloader:\n",
    "            images, labels = data\n",
    "            outputs = model( images )\n",
    "            _, predicted = torch.max(outputs.data, 1)\n",
    "            total += labels.size(0)\n",
    "            correct += (predicted == labels).sum().item()\n",
    "\n",
    "    # Just do a coarse evaluation... how many did we predict correcly?\n",
    "    print( 'Accuracy of the network on the test images: %f %%' % ( 100 * correct / total) )"
   ]
  },
  {
   "cell_type": "code",
   "execution_count": 71,
   "metadata": {},
   "outputs": [
    {
     "name": "stdout",
     "output_type": "stream",
     "text": [
      "Accuracy of the network on the test images: 87.367540 %\n"
     ]
    }
   ],
   "source": [
    "evaluate(net, test_dataloader)"
   ]
  },
  {
   "cell_type": "code",
   "execution_count": 72,
   "metadata": {},
   "outputs": [],
   "source": [
    "torch.save(net.state_dict(), \"model\")"
   ]
  },
  {
   "cell_type": "code",
   "execution_count": 88,
   "metadata": {},
   "outputs": [
    {
     "name": "stdout",
     "output_type": "stream",
     "text": [
      "['a', 'b', 'c', 'd', 'e', 'f', 'g', 'h', 'i', 'k', 'l', 'm', 'n', 'o', 'p', 'q', 'r', 's', 't', 'u', 'v', 'w', 'x', 'y']\n",
      "tensor([[ -64.6775,   -1.6465,  -30.7249,  -45.6755,  -16.6800,  -22.2273,\n",
      "          -41.9897,  -61.4280,  -49.0884,  -49.3089,  -84.1036,  -48.4775,\n",
      "          -28.4454,  -10.8825,  -66.6475,  -42.9844,  -75.2255,  -38.8301,\n",
      "          -28.9095,  -43.7351,  -87.0008,  -45.9911,  -51.6828,  -75.2535,\n",
      "         -101.6493, -111.2796, -124.1686,  -87.1765,  -91.2014,  -94.8481,\n",
      "         -112.7961, -102.7833, -101.5266, -101.9829,  -98.0648,  -99.2170]])\n",
      "b\n"
     ]
    }
   ],
   "source": [
    "\n",
    "image = Image.open(\"image.png\")\n",
    "label = 5\n",
    "image = test_transform(image)\n",
    "image = image.unsqueeze(0)\n",
    "outputs = net( image )\n",
    "\n",
    "\n",
    "# test_data_location = 701\n",
    "# image, label = test_data[test_data_location]\n",
    "# image = image.unsqueeze(0)\n",
    "# outputs = net( image )\n",
    "\n",
    "_, predicted = torch.max(outputs.data, 1)\n",
    "print(test_data.classes)\n",
    "print(outputs.data)\n",
    "\n",
    "print(test_data.classes[predicted])\n",
    "\n"
   ]
  },
  {
   "cell_type": "code",
   "execution_count": 89,
   "metadata": {},
   "outputs": [
    {
     "name": "stdout",
     "output_type": "stream",
     "text": [
      "Image shape: torch.Size([1, 1, 28, 28])\n",
      "torch.Size([28])\n"
     ]
    },
    {
     "data": {
      "image/png": "[encoded data removed]",
      "text/plain": [
       "<Figure size 640x480 with 1 Axes>"
      ]
     },
     "metadata": {},
     "output_type": "display_data"
    }
   ],
   "source": [
    "import matplotlib.pyplot as plt\n",
    "print(f\"Image shape: {image.shape}\")\n",
    "print(image.squeeze()[0].shape)\n",
    "plt.imshow(image.squeeze())\n",
    "plt.show()"
   ]
  },
  {
   "cell_type": "code",
   "execution_count": 90,
   "metadata": {},
   "outputs": [
    {
     "data": {
      "image/png": "[encoded data removed]",
      "text/plain": [
       "<Figure size 640x480 with 1 Axes>"
      ]
     },
     "metadata": {},
     "output_type": "display_data"
    }
   ],
   "source": [
    "net.eval()\n",
    "\n",
    "y = [5]\n",
    "y = torch.LongTensor(y)\n",
    "X = image\n",
    "\n",
    "X.requires_grad_()\n",
    "\n",
    "scores = net(X)\n",
    "loss = torch.nn.functional.cross_entropy(scores, y)\n",
    "loss.backward()\n",
    "saliency, _ = torch.max(torch.abs(X.grad), dim=1)\n",
    "saliency = saliency.numpy()\n",
    "plt.imshow(saliency[0], cmap=plt.cm.hot)\n",
    "X = X.detach()\n",
    "\n"
   ]
  }
 ],
 "metadata": {
  "kernelspec": {
   "display_name": "Python 3",
   "language": "python",
   "name": "python3"
  },
  "language_info": {
   "codemirror_mode": {
    "name": "ipython",
    "version": 3
   },
   "file_extension": ".py",
   "mimetype": "text/x-python",
   "name": "python",
   "nbconvert_exporter": "python",
   "pygments_lexer": "ipython3",
   "version": "3.11.4"
  },
  "orig_nbformat": 4
 },
 "nbformat": 4,
 "nbformat_minor": 2
}
